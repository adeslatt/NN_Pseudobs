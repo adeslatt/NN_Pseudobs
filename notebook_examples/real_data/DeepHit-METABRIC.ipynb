{
 "cells": [
  {
   "cell_type": "code",
   "execution_count": 1,
   "metadata": {},
   "outputs": [],
   "source": [
    "import os\n",
    "main = os.chdir(os.path.dirname(os.path.dirname(os.getcwd())))"
   ]
  },
  {
   "cell_type": "code",
   "execution_count": 2,
   "metadata": {},
   "outputs": [
    {
     "name": "stderr",
     "output_type": "stream",
     "text": [
      "Using TensorFlow backend.\n"
     ]
    }
   ],
   "source": [
    "import numpy as np\n",
    "import pandas as pd\n",
    "\n",
    "from model import model_architecture, output_results\n",
    "from pycox.models import DeepHitSingle\n",
    "from sksurv.util import Surv as skSurv"
   ]
  },
  {
   "cell_type": "markdown",
   "metadata": {},
   "source": [
    "# I. METABRIC data"
   ]
  },
  {
   "cell_type": "markdown",
   "metadata": {},
   "source": [
    "We use METABRIC data. We use clinical and pathological informations and gene expression data. Missing values for explanatory variables are completed. Data is normalized (with mean and std from train set for train and test set) and splitted into training and test set. The same training and test set are used for all the models.\n",
    "For DeepHit, the time variable is discretized. We split here the time in 10 equally spaced discrete time intervals."
   ]
  },
  {
   "cell_type": "code",
   "execution_count": 3,
   "metadata": {},
   "outputs": [],
   "source": [
    "name = \"DeepHit\""
   ]
  },
  {
   "cell_type": "code",
   "execution_count": 4,
   "metadata": {},
   "outputs": [],
   "source": [
    "df_train = pd.read_csv(\"data/real_data/metabric_train.csv\")\n",
    "data_train = skSurv.from_arrays(event=df_train['cen_train'], time=df_train['surv_train'])\n",
    "x_train = np.array(df_train.drop(['surv_train','cen_train'], axis = 1), dtype = 'float32')\n",
    "\n",
    "num_durations = 10\n",
    "labtrans = DeepHitSingle.label_transform(num_durations)\n",
    "get_target = lambda df: (df['surv_train'].values, df['cen_train'].values)\n",
    "y_train = labtrans.fit_transform(*get_target(df_train))\n",
    "train = (x_train, y_train)\n",
    "\n",
    "df_test = pd.read_csv(\"data/real_data/metabric_test.csv\")"
   ]
  },
  {
   "cell_type": "markdown",
   "metadata": {},
   "source": [
    "# II. Model's construction and training"
   ]
  },
  {
   "cell_type": "markdown",
   "metadata": {},
   "source": [
    "The parameters of the architecture are the one listed in the parameters dataframe, selected by a 5-fold cross-validation among 100 sets of parameters. "
   ]
  },
  {
   "cell_type": "code",
   "execution_count": 5,
   "metadata": {},
   "outputs": [],
   "source": [
    "param = pd.read_csv(\"model/param_metabric.csv\",sep=';', index_col = 0).T\n",
    "param_final = param.loc[name]"
   ]
  },
  {
   "cell_type": "code",
   "execution_count": 6,
   "metadata": {},
   "outputs": [
    {
     "name": "stdout",
     "output_type": "stream",
     "text": [
      "neurons            16\n",
      "drop              0.4\n",
      "activation        elu\n",
      "lr_opt          0.005\n",
      "optimizer     rmsprop\n",
      "n_layers            3\n",
      "Name: DeepHit, dtype: object\n"
     ]
    }
   ],
   "source": [
    "print(param_final)"
   ]
  },
  {
   "cell_type": "code",
   "execution_count": 7,
   "metadata": {},
   "outputs": [],
   "source": [
    "neurons = int(param_final['neurons'])\n",
    "drop = float(param_final['drop'])\n",
    "activation = param_final['activation']\n",
    "lr_opt = float(param_final['lr_opt'])\n",
    "optimizer = param_final['optimizer']\n",
    "n_layers = int(param_final['n_layers'])"
   ]
  },
  {
   "cell_type": "markdown",
   "metadata": {},
   "source": [
    "The objective function is used to define the architecture of the neural network. "
   ]
  },
  {
   "cell_type": "code",
   "execution_count": 8,
   "metadata": {
    "scrolled": true
   },
   "outputs": [
    {
     "name": "stdout",
     "output_type": "stream",
     "text": [
      "0:\t[0s / 0s],\t\ttrain_loss: 0.4732\n",
      "1:\t[0s / 1s],\t\ttrain_loss: 0.4436\n",
      "2:\t[0s / 2s],\t\ttrain_loss: 0.4352\n",
      "3:\t[0s / 3s],\t\ttrain_loss: 0.4292\n",
      "4:\t[0s / 4s],\t\ttrain_loss: 0.4204\n",
      "5:\t[0s / 5s],\t\ttrain_loss: 0.4175\n",
      "6:\t[0s / 6s],\t\ttrain_loss: 0.4086\n",
      "7:\t[0s / 7s],\t\ttrain_loss: 0.4021\n",
      "8:\t[0s / 8s],\t\ttrain_loss: 0.4009\n",
      "9:\t[0s / 9s],\t\ttrain_loss: 0.3964\n",
      "10:\t[0s / 10s],\t\ttrain_loss: 0.3899\n",
      "11:\t[0s / 11s],\t\ttrain_loss: 0.3987\n",
      "12:\t[0s / 12s],\t\ttrain_loss: 0.3939\n",
      "13:\t[0s / 13s],\t\ttrain_loss: 0.3832\n",
      "14:\t[0s / 14s],\t\ttrain_loss: 0.3789\n",
      "15:\t[0s / 15s],\t\ttrain_loss: 0.3842\n",
      "16:\t[0s / 15s],\t\ttrain_loss: 0.3825\n",
      "17:\t[1s / 17s],\t\ttrain_loss: 0.3777\n",
      "18:\t[1s / 18s],\t\ttrain_loss: 0.3823\n",
      "19:\t[1s / 19s],\t\ttrain_loss: 0.3777\n",
      "20:\t[0s / 20s],\t\ttrain_loss: 0.3759\n",
      "21:\t[1s / 21s],\t\ttrain_loss: 0.3740\n",
      "22:\t[0s / 22s],\t\ttrain_loss: 0.3731\n",
      "23:\t[0s / 23s],\t\ttrain_loss: 0.3696\n",
      "24:\t[0s / 24s],\t\ttrain_loss: 0.3647\n",
      "25:\t[0s / 25s],\t\ttrain_loss: 0.3728\n",
      "26:\t[0s / 25s],\t\ttrain_loss: 0.3682\n",
      "27:\t[0s / 26s],\t\ttrain_loss: 0.3682\n",
      "28:\t[0s / 27s],\t\ttrain_loss: 0.3697\n",
      "29:\t[0s / 28s],\t\ttrain_loss: 0.3684\n",
      "30:\t[0s / 29s],\t\ttrain_loss: 0.3688\n",
      "31:\t[0s / 30s],\t\ttrain_loss: 0.3575\n",
      "32:\t[0s / 31s],\t\ttrain_loss: 0.3660\n",
      "33:\t[0s / 32s],\t\ttrain_loss: 0.3583\n",
      "34:\t[0s / 33s],\t\ttrain_loss: 0.3699\n",
      "35:\t[0s / 34s],\t\ttrain_loss: 0.3582\n",
      "36:\t[0s / 35s],\t\ttrain_loss: 0.3555\n",
      "37:\t[0s / 36s],\t\ttrain_loss: 0.3561\n",
      "38:\t[0s / 37s],\t\ttrain_loss: 0.3631\n",
      "39:\t[0s / 38s],\t\ttrain_loss: 0.3608\n",
      "40:\t[0s / 39s],\t\ttrain_loss: 0.3587\n",
      "41:\t[0s / 40s],\t\ttrain_loss: 0.3549\n",
      "42:\t[0s / 41s],\t\ttrain_loss: 0.3479\n",
      "43:\t[0s / 42s],\t\ttrain_loss: 0.3624\n",
      "44:\t[0s / 43s],\t\ttrain_loss: 0.3595\n",
      "45:\t[0s / 44s],\t\ttrain_loss: 0.3490\n",
      "46:\t[0s / 44s],\t\ttrain_loss: 0.3526\n",
      "47:\t[0s / 45s],\t\ttrain_loss: 0.3517\n",
      "48:\t[0s / 46s],\t\ttrain_loss: 0.3461\n",
      "49:\t[0s / 47s],\t\ttrain_loss: 0.3411\n",
      "50:\t[0s / 48s],\t\ttrain_loss: 0.3453\n",
      "51:\t[0s / 49s],\t\ttrain_loss: 0.3454\n",
      "52:\t[0s / 50s],\t\ttrain_loss: 0.3458\n",
      "53:\t[0s / 51s],\t\ttrain_loss: 0.3458\n",
      "54:\t[0s / 52s],\t\ttrain_loss: 0.3391\n",
      "55:\t[0s / 53s],\t\ttrain_loss: 0.3447\n",
      "56:\t[0s / 54s],\t\ttrain_loss: 0.3407\n",
      "57:\t[0s / 55s],\t\ttrain_loss: 0.3316\n",
      "58:\t[0s / 56s],\t\ttrain_loss: 0.3372\n",
      "59:\t[0s / 56s],\t\ttrain_loss: 0.3423\n",
      "60:\t[0s / 57s],\t\ttrain_loss: 0.3343\n",
      "61:\t[0s / 58s],\t\ttrain_loss: 0.3581\n",
      "62:\t[0s / 59s],\t\ttrain_loss: 0.3448\n",
      "63:\t[0s / 1m:0s],\t\ttrain_loss: 0.3431\n",
      "64:\t[1s / 1m:1s],\t\ttrain_loss: 0.3336\n",
      "65:\t[1s / 1m:2s],\t\ttrain_loss: 0.3559\n",
      "66:\t[1s / 1m:3s],\t\ttrain_loss: 0.3393\n",
      "67:\t[1s / 1m:5s],\t\ttrain_loss: 0.3362\n",
      "68:\t[0s / 1m:6s],\t\ttrain_loss: 0.3326\n",
      "69:\t[1s / 1m:7s],\t\ttrain_loss: 0.3350\n",
      "70:\t[1s / 1m:8s],\t\ttrain_loss: 0.3211\n",
      "71:\t[1s / 1m:9s],\t\ttrain_loss: 0.3303\n",
      "72:\t[1s / 1m:10s],\t\ttrain_loss: 0.3331\n",
      "73:\t[0s / 1m:11s],\t\ttrain_loss: 0.3233\n",
      "74:\t[0s / 1m:12s],\t\ttrain_loss: 0.3271\n",
      "75:\t[0s / 1m:13s],\t\ttrain_loss: 0.3187\n",
      "76:\t[0s / 1m:14s],\t\ttrain_loss: 0.3431\n",
      "77:\t[0s / 1m:15s],\t\ttrain_loss: 0.3428\n",
      "78:\t[0s / 1m:16s],\t\ttrain_loss: 0.3286\n",
      "79:\t[0s / 1m:16s],\t\ttrain_loss: 0.3268\n",
      "80:\t[0s / 1m:17s],\t\ttrain_loss: 0.3232\n",
      "81:\t[0s / 1m:18s],\t\ttrain_loss: 0.3216\n",
      "82:\t[0s / 1m:19s],\t\ttrain_loss: 0.3386\n",
      "83:\t[0s / 1m:20s],\t\ttrain_loss: 0.3525\n",
      "84:\t[0s / 1m:21s],\t\ttrain_loss: 0.3380\n",
      "85:\t[0s / 1m:22s],\t\ttrain_loss: 0.3261\n",
      "86:\t[0s / 1m:23s],\t\ttrain_loss: 0.3313\n",
      "87:\t[0s / 1m:24s],\t\ttrain_loss: 0.3357\n",
      "88:\t[0s / 1m:25s],\t\ttrain_loss: 0.3258\n",
      "89:\t[0s / 1m:26s],\t\ttrain_loss: 0.3296\n",
      "90:\t[0s / 1m:27s],\t\ttrain_loss: 0.3223\n",
      "91:\t[0s / 1m:28s],\t\ttrain_loss: 0.3178\n",
      "92:\t[0s / 1m:29s],\t\ttrain_loss: 0.3206\n",
      "93:\t[0s / 1m:30s],\t\ttrain_loss: 0.3218\n",
      "94:\t[0s / 1m:31s],\t\ttrain_loss: 0.3289\n",
      "95:\t[0s / 1m:31s],\t\ttrain_loss: 0.3254\n",
      "96:\t[0s / 1m:32s],\t\ttrain_loss: 0.3477\n",
      "97:\t[0s / 1m:33s],\t\ttrain_loss: 0.3270\n",
      "98:\t[0s / 1m:34s],\t\ttrain_loss: 0.3168\n",
      "99:\t[0s / 1m:35s],\t\ttrain_loss: 0.3189\n"
     ]
    }
   ],
   "source": [
    "model,callbacks  = model_architecture.objective(x_train,  neurons, drop, activation, lr_opt, optimizer, n_layers,name, labtrans = labtrans)\n",
    "log = model.fit(x_train, y_train,neurons, epochs = 100,callbacks = callbacks, verbose=True)"
   ]
  },
  {
   "cell_type": "markdown",
   "metadata": {},
   "source": [
    "# III. Results"
   ]
  },
  {
   "cell_type": "markdown",
   "metadata": {},
   "source": [
    "We sample 100 test sets iteratively among the test dataset to obtain bootstraped results. "
   ]
  },
  {
   "cell_type": "code",
   "execution_count": 9,
   "metadata": {
    "scrolled": true
   },
   "outputs": [
    {
     "name": "stdout",
     "output_type": "stream",
     "text": [
      "0\n",
      "1\n",
      "2\n",
      "3\n",
      "4\n",
      "5\n",
      "6\n",
      "7\n",
      "8\n",
      "9\n",
      "10\n",
      "11\n",
      "12\n",
      "13\n",
      "14\n",
      "15\n",
      "16\n",
      "17\n",
      "18\n",
      "19\n",
      "20\n",
      "21\n",
      "22\n",
      "23\n",
      "24\n",
      "25\n",
      "26\n",
      "27\n",
      "28\n",
      "29\n",
      "30\n",
      "31\n",
      "32\n",
      "33\n",
      "34\n",
      "35\n",
      "36\n",
      "37\n",
      "38\n",
      "39\n",
      "40\n",
      "41\n",
      "42\n",
      "43\n",
      "44\n",
      "45\n",
      "46\n",
      "47\n",
      "48\n",
      "49\n",
      "50\n",
      "51\n",
      "52\n",
      "53\n",
      "54\n",
      "55\n",
      "56\n",
      "57\n",
      "58\n",
      "59\n",
      "60\n",
      "61\n",
      "62\n",
      "63\n",
      "64\n",
      "65\n",
      "66\n",
      "67\n",
      "68\n",
      "69\n",
      "70\n",
      "71\n",
      "72\n",
      "73\n",
      "74\n",
      "75\n",
      "76\n",
      "77\n",
      "78\n",
      "79\n",
      "80\n",
      "81\n",
      "82\n",
      "83\n",
      "84\n",
      "85\n",
      "86\n",
      "87\n",
      "88\n",
      "89\n",
      "90\n",
      "91\n",
      "92\n",
      "93\n",
      "94\n",
      "95\n",
      "96\n",
      "97\n",
      "98\n",
      "99\n"
     ]
    }
   ],
   "source": [
    "n_iterations = 100\n",
    "results_all = output_results.output_bootstrap(model, n_iterations, df_train, data_train, y_train, df_test,name)"
   ]
  },
  {
   "cell_type": "markdown",
   "metadata": {},
   "source": [
    "We output the AUC value at 5 and 10 years and Uno's C-index at 5 and 10 years, with 95% Confidence Intervals."
   ]
  },
  {
   "cell_type": "code",
   "execution_count": 10,
   "metadata": {},
   "outputs": [
    {
     "data": {
      "text/html": [
       "<div>\n",
       "<style scoped>\n",
       "    .dataframe tbody tr th:only-of-type {\n",
       "        vertical-align: middle;\n",
       "    }\n",
       "\n",
       "    .dataframe tbody tr th {\n",
       "        vertical-align: top;\n",
       "    }\n",
       "\n",
       "    .dataframe thead th {\n",
       "        text-align: right;\n",
       "    }\n",
       "</style>\n",
       "<table border=\"1\" class=\"dataframe\">\n",
       "  <thead>\n",
       "    <tr style=\"text-align: right;\">\n",
       "      <th></th>\n",
       "      <th>mean</th>\n",
       "      <th>ci95_lo</th>\n",
       "      <th>ci95_hi</th>\n",
       "      <th>std</th>\n",
       "      <th>count</th>\n",
       "    </tr>\n",
       "  </thead>\n",
       "  <tbody>\n",
       "    <tr>\n",
       "      <th>auc5</th>\n",
       "      <td>0.708618</td>\n",
       "      <td>0.650480</td>\n",
       "      <td>0.760530</td>\n",
       "      <td>0.033173</td>\n",
       "      <td>100.0</td>\n",
       "    </tr>\n",
       "    <tr>\n",
       "      <th>auc10</th>\n",
       "      <td>0.709882</td>\n",
       "      <td>0.661293</td>\n",
       "      <td>0.769405</td>\n",
       "      <td>0.033538</td>\n",
       "      <td>100.0</td>\n",
       "    </tr>\n",
       "    <tr>\n",
       "      <th>unoc5</th>\n",
       "      <td>0.686820</td>\n",
       "      <td>0.637974</td>\n",
       "      <td>0.728844</td>\n",
       "      <td>0.028016</td>\n",
       "      <td>100.0</td>\n",
       "    </tr>\n",
       "    <tr>\n",
       "      <th>unoc10</th>\n",
       "      <td>0.656173</td>\n",
       "      <td>0.618298</td>\n",
       "      <td>0.698182</td>\n",
       "      <td>0.021996</td>\n",
       "      <td>100.0</td>\n",
       "    </tr>\n",
       "  </tbody>\n",
       "</table>\n",
       "</div>"
      ],
      "text/plain": [
       "            mean   ci95_lo   ci95_hi       std  count\n",
       "auc5    0.708618  0.650480  0.760530  0.033173  100.0\n",
       "auc10   0.709882  0.661293  0.769405  0.033538  100.0\n",
       "unoc5   0.686820  0.637974  0.728844  0.028016  100.0\n",
       "unoc10  0.656173  0.618298  0.698182  0.021996  100.0"
      ]
     },
     "execution_count": 10,
     "metadata": {},
     "output_type": "execute_result"
    }
   ],
   "source": [
    "results_all"
   ]
  }
 ],
 "metadata": {
  "kernelspec": {
   "display_name": "nnet_compare",
   "language": "python",
   "name": "myenv"
  },
  "language_info": {
   "codemirror_mode": {
    "name": "ipython",
    "version": 3
   },
   "file_extension": ".py",
   "mimetype": "text/x-python",
   "name": "python",
   "nbconvert_exporter": "python",
   "pygments_lexer": "ipython3",
   "version": "3.7.7"
  }
 },
 "nbformat": 4,
 "nbformat_minor": 2
}
