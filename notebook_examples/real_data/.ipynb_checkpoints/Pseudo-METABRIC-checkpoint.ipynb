{
 "cells": [
  {
   "cell_type": "code",
   "execution_count": 1,
   "metadata": {},
   "outputs": [],
   "source": [
    "import os\n",
    "main = os.chdir(os.path.dirname(os.path.dirname(os.getcwd())))"
   ]
  },
  {
   "cell_type": "code",
   "execution_count": 2,
   "metadata": {},
   "outputs": [
    {
     "name": "stderr",
     "output_type": "stream",
     "text": [
      "Using TensorFlow backend.\n"
     ]
    }
   ],
   "source": [
    "import numpy as np\n",
    "import pandas as pd\n",
    "\n",
    "from model import model_architecture, output_results, utils\n",
    "from model.utils import prepare_pseudobs\n",
    "from sksurv.util import Surv as skSurv"
   ]
  },
  {
   "cell_type": "markdown",
   "metadata": {},
   "source": [
    "# I. METABRIC data"
   ]
  },
  {
   "cell_type": "markdown",
   "metadata": {},
   "source": [
    "We first choose the type of pseudo-observation among the followings:\n",
    "- \"pseudo_optim\"\n",
    "- \"pseudo_km\"\n",
    "- \"pseudo-continuous\"\n",
    "- \"pseudo-discrete\""
   ]
  },
  {
   "cell_type": "code",
   "execution_count": 3,
   "metadata": {},
   "outputs": [],
   "source": [
    "name = \"pseudo-discrete\" "
   ]
  },
  {
   "cell_type": "markdown",
   "metadata": {},
   "source": [
    "We use METABRIC data. We use clinical and pathological informations and gene expression data. Missing values for explanatory variables are completed. Data is normalized (with mean and std from train set for train and test set) and splitted into training and test set. The same training and test set are used for all the models."
   ]
  },
  {
   "cell_type": "code",
   "execution_count": 4,
   "metadata": {},
   "outputs": [],
   "source": [
    "df_train = pd.read_csv(\"data/real_data/metabric_train.csv\")\n",
    "data_train = skSurv.from_arrays(event=df_train['cen_train'], time=df_train['surv_train'])\n",
    "x_train = df_train.drop(['surv_train','cen_train'], axis = 1)\n",
    "y_train = pd.read_csv(\"data/real_data/meta_\" + name +\".csv\")\n",
    "\n",
    "df_test = pd.read_csv(\"data/real_data/metabric_test.csv\")\n",
    "x_test = np.array(df_test.drop(['surv_test','cen_test'], axis = 1), dtype = 'float32')\n",
    "y_test = df_test[['surv_test','cen_test']]"
   ]
  },
  {
   "cell_type": "code",
   "execution_count": 5,
   "metadata": {},
   "outputs": [],
   "source": [
    "x_train_all, y_train_all, _ = utils.prepare_pseudobs(x_train, y_train, df_train, x_test, df_test, name)"
   ]
  },
  {
   "cell_type": "markdown",
   "metadata": {},
   "source": [
    "# II. Model's construction and training"
   ]
  },
  {
   "cell_type": "markdown",
   "metadata": {},
   "source": [
    "The parameters of the architecture are the one listed in the parameters dataframe, selected by a 5-fold cross-validation among 100 sets of parameters. "
   ]
  },
  {
   "cell_type": "code",
   "execution_count": 6,
   "metadata": {},
   "outputs": [],
   "source": [
    "param = pd.read_csv(\"model/param_metabric.csv\",sep=';', index_col = 0).T\n",
    "param_final = param.loc[name]"
   ]
  },
  {
   "cell_type": "code",
   "execution_count": 7,
   "metadata": {},
   "outputs": [
    {
     "name": "stdout",
     "output_type": "stream",
     "text": [
      "neurons          16\n",
      "drop            0.4\n",
      "activation      elu\n",
      "lr_opt        0.005\n",
      "optimizer     sgdwr\n",
      "n_layers          3\n",
      "Name: pseudo-discrete, dtype: object\n"
     ]
    }
   ],
   "source": [
    "print(param_final)"
   ]
  },
  {
   "cell_type": "code",
   "execution_count": 8,
   "metadata": {},
   "outputs": [],
   "source": [
    "neurons = int(param_final['neurons'])\n",
    "drop = float(param_final['drop'])\n",
    "activation = param_final['activation']\n",
    "lr_opt = float(param_final['lr_opt'])\n",
    "optimizer = param_final['optimizer']\n",
    "n_layers = int(param_final['n_layers'])"
   ]
  },
  {
   "cell_type": "markdown",
   "metadata": {},
   "source": [
    "The objective function is used to define the architecture of the neural network. "
   ]
  },
  {
   "cell_type": "code",
   "execution_count": 9,
   "metadata": {
    "scrolled": true
   },
   "outputs": [
    {
     "name": "stdout",
     "output_type": "stream",
     "text": [
      "Epoch 1/100\n",
      " - 2s - loss: 0.1825\n",
      "Epoch 2/100\n",
      " - 1s - loss: 0.1359\n",
      "Epoch 3/100\n",
      " - 1s - loss: 0.1340\n",
      "Epoch 4/100\n",
      " - 1s - loss: 0.1333\n",
      "Epoch 5/100\n",
      " - 1s - loss: 0.1310\n",
      "Epoch 6/100\n",
      " - 1s - loss: 0.1311\n",
      "Epoch 7/100\n",
      " - 1s - loss: 0.1302\n",
      "Epoch 8/100\n",
      " - 1s - loss: 0.1299\n",
      "Epoch 9/100\n",
      " - 1s - loss: 0.1301\n",
      "Epoch 10/100\n",
      " - 1s - loss: 0.1292\n",
      "Epoch 11/100\n",
      " - 1s - loss: 0.1296\n",
      "Epoch 12/100\n",
      " - 1s - loss: 0.1296\n",
      "Epoch 13/100\n",
      " - 1s - loss: 0.1293\n",
      "Epoch 14/100\n",
      " - 1s - loss: 0.1291\n",
      "Epoch 15/100\n",
      " - 1s - loss: 0.1291\n",
      "Epoch 16/100\n",
      " - 1s - loss: 0.1288\n",
      "Epoch 17/100\n",
      " - 1s - loss: 0.1288\n",
      "Epoch 18/100\n",
      " - 1s - loss: 0.1283\n",
      "Epoch 19/100\n",
      " - 1s - loss: 0.1288\n",
      "Epoch 20/100\n",
      " - 1s - loss: 0.1284\n",
      "Epoch 21/100\n",
      " - 1s - loss: 0.1285\n",
      "Epoch 22/100\n",
      " - 1s - loss: 0.1282\n",
      "Epoch 23/100\n",
      " - 1s - loss: 0.1279\n",
      "Epoch 24/100\n",
      " - 1s - loss: 0.1277\n",
      "Epoch 25/100\n",
      " - 1s - loss: 0.1281\n",
      "Epoch 26/100\n",
      " - 1s - loss: 0.1276\n",
      "Epoch 27/100\n",
      " - 1s - loss: 0.1280\n",
      "Epoch 28/100\n",
      " - 1s - loss: 0.1278\n",
      "Epoch 29/100\n",
      " - 1s - loss: 0.1277\n",
      "Epoch 30/100\n",
      " - 1s - loss: 0.1278\n",
      "Epoch 31/100\n",
      " - 1s - loss: 0.1278\n",
      "Epoch 32/100\n",
      " - 1s - loss: 0.1277\n",
      "Epoch 33/100\n",
      " - 1s - loss: 0.1268\n",
      "Epoch 34/100\n",
      " - 1s - loss: 0.1271\n",
      "Epoch 35/100\n",
      " - 1s - loss: 0.1270\n",
      "Epoch 36/100\n",
      " - 1s - loss: 0.1277\n",
      "Epoch 37/100\n",
      " - 1s - loss: 0.1273\n",
      "Epoch 38/100\n",
      " - 1s - loss: 0.1272\n",
      "Epoch 39/100\n",
      " - 1s - loss: 0.1270\n",
      "Epoch 40/100\n",
      " - 1s - loss: 0.1273\n",
      "Epoch 41/100\n",
      " - 1s - loss: 0.1272\n",
      "Epoch 42/100\n",
      " - 1s - loss: 0.1272\n",
      "Epoch 43/100\n",
      " - 1s - loss: 0.1282\n",
      "Epoch 44/100\n",
      " - 1s - loss: 0.1275\n",
      "Epoch 45/100\n",
      " - 1s - loss: 0.1271\n",
      "Epoch 46/100\n",
      " - 1s - loss: 0.1276\n",
      "Epoch 47/100\n",
      " - 1s - loss: 0.1265\n",
      "Epoch 48/100\n",
      " - 1s - loss: 0.1274\n",
      "Epoch 49/100\n",
      " - 1s - loss: 0.1275\n",
      "Epoch 50/100\n",
      " - 1s - loss: 0.1278\n",
      "Epoch 51/100\n",
      " - 1s - loss: 0.1277\n",
      "Epoch 52/100\n",
      " - 1s - loss: 0.1277\n",
      "Epoch 53/100\n",
      " - 1s - loss: 0.1270\n",
      "Epoch 54/100\n",
      " - 1s - loss: 0.1267\n",
      "Epoch 55/100\n",
      " - 1s - loss: 0.1271\n",
      "Epoch 56/100\n",
      " - 1s - loss: 0.1270\n",
      "Epoch 57/100\n",
      " - 1s - loss: 0.1261\n",
      "Epoch 58/100\n",
      " - 1s - loss: 0.1263\n",
      "Epoch 59/100\n",
      " - 1s - loss: 0.1264\n",
      "Epoch 60/100\n",
      " - 1s - loss: 0.1268\n",
      "Epoch 61/100\n",
      " - 1s - loss: 0.1263\n",
      "Epoch 62/100\n",
      " - 1s - loss: 0.1266\n",
      "Epoch 63/100\n",
      " - 1s - loss: 0.1258\n",
      "Epoch 64/100\n",
      " - 1s - loss: 0.1253\n",
      "Epoch 65/100\n",
      " - 1s - loss: 0.1264\n",
      "Epoch 66/100\n",
      " - 1s - loss: 0.1255\n",
      "Epoch 67/100\n",
      " - 1s - loss: 0.1254\n",
      "Epoch 68/100\n",
      " - 1s - loss: 0.1237\n",
      "Epoch 69/100\n",
      " - 1s - loss: 0.1259\n",
      "Epoch 70/100\n",
      " - 1s - loss: 0.1252\n",
      "Epoch 71/100\n",
      " - 1s - loss: 0.1251\n",
      "Epoch 72/100\n",
      " - 1s - loss: 0.1246\n",
      "Epoch 73/100\n",
      " - 1s - loss: 0.1255\n",
      "Epoch 74/100\n",
      " - 1s - loss: 0.1252\n",
      "Epoch 75/100\n",
      " - 1s - loss: 0.1246\n",
      "Epoch 76/100\n",
      " - 1s - loss: 0.1245\n",
      "Epoch 77/100\n",
      " - 1s - loss: 0.1235\n",
      "Epoch 78/100\n",
      " - 1s - loss: 0.1248\n",
      "Epoch 79/100\n",
      " - 1s - loss: 0.1243\n",
      "Epoch 80/100\n",
      " - 1s - loss: 0.1236\n",
      "Epoch 81/100\n",
      " - 1s - loss: 0.1240\n",
      "Epoch 82/100\n",
      " - 1s - loss: 0.1247\n",
      "Epoch 83/100\n",
      " - 1s - loss: 0.1236\n",
      "Epoch 84/100\n",
      " - 1s - loss: 0.1240\n",
      "Epoch 85/100\n",
      " - 1s - loss: 0.1239\n",
      "Epoch 86/100\n",
      " - 1s - loss: 0.1243\n",
      "Epoch 87/100\n",
      " - 1s - loss: 0.1238\n",
      "Epoch 88/100\n",
      " - 1s - loss: 0.1230\n",
      "Epoch 89/100\n",
      " - 1s - loss: 0.1239\n",
      "Epoch 90/100\n",
      " - 1s - loss: 0.1238\n",
      "Epoch 91/100\n",
      " - 1s - loss: 0.1241\n",
      "Epoch 92/100\n",
      " - 1s - loss: 0.1241\n",
      "Epoch 93/100\n",
      " - 1s - loss: 0.1235\n",
      "Epoch 94/100\n",
      " - 1s - loss: 0.1232\n",
      "Epoch 95/100\n",
      " - 1s - loss: 0.1240\n",
      "Epoch 96/100\n",
      " - 1s - loss: 0.1230\n",
      "Epoch 97/100\n",
      " - 1s - loss: 0.1240\n",
      "Epoch 98/100\n",
      " - 1s - loss: 0.1234\n",
      "Epoch 99/100\n",
      " - 1s - loss: 0.1232\n",
      "Epoch 100/100\n",
      " - 1s - loss: 0.1229\n"
     ]
    }
   ],
   "source": [
    "model, callbacks  = model_architecture.objective_pseudobs(x_train_all, neurons, drop,  activation, lr_opt, optimizer, n_layers)\n",
    "log = model.fit(x_train_all, y_train_all, batch_size = 32, epochs = 100, callbacks = callbacks, verbose=2)"
   ]
  },
  {
   "cell_type": "markdown",
   "metadata": {},
   "source": [
    "# III. Results"
   ]
  },
  {
   "cell_type": "markdown",
   "metadata": {},
   "source": [
    "We sample 100 test sets iteratively among the test dataset to obtain bootstraped results. "
   ]
  },
  {
   "cell_type": "code",
   "execution_count": 10,
   "metadata": {
    "scrolled": true
   },
   "outputs": [
    {
     "name": "stdout",
     "output_type": "stream",
     "text": [
      "0\n",
      "1\n",
      "2\n",
      "3\n",
      "4\n",
      "5\n",
      "6\n",
      "7\n",
      "8\n",
      "9\n",
      "10\n",
      "11\n",
      "12\n",
      "13\n",
      "14\n",
      "15\n",
      "16\n",
      "17\n",
      "18\n",
      "19\n",
      "20\n",
      "21\n",
      "22\n",
      "23\n",
      "24\n",
      "25\n",
      "26\n",
      "27\n",
      "28\n",
      "29\n",
      "30\n",
      "31\n",
      "32\n",
      "33\n",
      "34\n",
      "35\n",
      "36\n",
      "37\n",
      "38\n",
      "39\n",
      "40\n",
      "41\n",
      "42\n",
      "43\n",
      "44\n",
      "45\n",
      "46\n",
      "47\n",
      "48\n",
      "49\n",
      "50\n",
      "51\n",
      "52\n",
      "53\n",
      "54\n",
      "55\n",
      "56\n",
      "57\n",
      "58\n",
      "59\n",
      "60\n",
      "61\n",
      "62\n",
      "63\n",
      "64\n",
      "65\n",
      "66\n",
      "67\n",
      "68\n",
      "69\n",
      "70\n",
      "71\n",
      "72\n",
      "73\n",
      "74\n",
      "75\n",
      "76\n",
      "77\n",
      "78\n",
      "79\n",
      "80\n",
      "81\n",
      "82\n",
      "83\n",
      "84\n",
      "85\n",
      "86\n",
      "87\n",
      "88\n",
      "89\n",
      "90\n",
      "91\n",
      "92\n",
      "93\n",
      "94\n",
      "95\n",
      "96\n",
      "97\n",
      "98\n",
      "99\n"
     ]
    }
   ],
   "source": [
    "n_iterations = 100\n",
    "results_all = output_results.output_bootstrap(model, n_iterations, df_train, data_train, y_train, df_test,name)"
   ]
  },
  {
   "cell_type": "markdown",
   "metadata": {},
   "source": [
    "We output the AUC value at 5 and 10 years and Uno's C-index at 5 and 10 years, with 95% Confidence Intervals."
   ]
  },
  {
   "cell_type": "code",
   "execution_count": 11,
   "metadata": {},
   "outputs": [
    {
     "data": {
      "text/html": [
       "<div>\n",
       "<style scoped>\n",
       "    .dataframe tbody tr th:only-of-type {\n",
       "        vertical-align: middle;\n",
       "    }\n",
       "\n",
       "    .dataframe tbody tr th {\n",
       "        vertical-align: top;\n",
       "    }\n",
       "\n",
       "    .dataframe thead th {\n",
       "        text-align: right;\n",
       "    }\n",
       "</style>\n",
       "<table border=\"1\" class=\"dataframe\">\n",
       "  <thead>\n",
       "    <tr style=\"text-align: right;\">\n",
       "      <th></th>\n",
       "      <th>mean</th>\n",
       "      <th>ci95_lo</th>\n",
       "      <th>ci95_hi</th>\n",
       "      <th>std</th>\n",
       "      <th>count</th>\n",
       "    </tr>\n",
       "  </thead>\n",
       "  <tbody>\n",
       "    <tr>\n",
       "      <th>auc5</th>\n",
       "      <td>0.708788</td>\n",
       "      <td>0.652492</td>\n",
       "      <td>0.762467</td>\n",
       "      <td>0.035913</td>\n",
       "      <td>100.0</td>\n",
       "    </tr>\n",
       "    <tr>\n",
       "      <th>auc10</th>\n",
       "      <td>0.736577</td>\n",
       "      <td>0.687853</td>\n",
       "      <td>0.788017</td>\n",
       "      <td>0.029735</td>\n",
       "      <td>100.0</td>\n",
       "    </tr>\n",
       "    <tr>\n",
       "      <th>unoc5</th>\n",
       "      <td>0.680362</td>\n",
       "      <td>0.636641</td>\n",
       "      <td>0.726988</td>\n",
       "      <td>0.030728</td>\n",
       "      <td>100.0</td>\n",
       "    </tr>\n",
       "    <tr>\n",
       "      <th>unoc10</th>\n",
       "      <td>0.680517</td>\n",
       "      <td>0.647172</td>\n",
       "      <td>0.713789</td>\n",
       "      <td>0.020426</td>\n",
       "      <td>100.0</td>\n",
       "    </tr>\n",
       "  </tbody>\n",
       "</table>\n",
       "</div>"
      ],
      "text/plain": [
       "            mean   ci95_lo   ci95_hi       std  count\n",
       "auc5    0.708788  0.652492  0.762467  0.035913  100.0\n",
       "auc10   0.736577  0.687853  0.788017  0.029735  100.0\n",
       "unoc5   0.680362  0.636641  0.726988  0.030728  100.0\n",
       "unoc10  0.680517  0.647172  0.713789  0.020426  100.0"
      ]
     },
     "execution_count": 11,
     "metadata": {},
     "output_type": "execute_result"
    }
   ],
   "source": [
    "results_all"
   ]
  }
 ],
 "metadata": {
  "kernelspec": {
   "display_name": "nnet_compare",
   "language": "python",
   "name": "myenv"
  },
  "language_info": {
   "codemirror_mode": {
    "name": "ipython",
    "version": 3
   },
   "file_extension": ".py",
   "mimetype": "text/x-python",
   "name": "python",
   "nbconvert_exporter": "python",
   "pygments_lexer": "ipython3",
   "version": "3.7.7"
  }
 },
 "nbformat": 4,
 "nbformat_minor": 2
}
