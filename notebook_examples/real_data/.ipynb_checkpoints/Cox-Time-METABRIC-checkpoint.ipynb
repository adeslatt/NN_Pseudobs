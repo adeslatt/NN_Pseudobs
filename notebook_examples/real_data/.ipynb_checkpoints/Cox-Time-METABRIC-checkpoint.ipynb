{
 "cells": [
  {
   "cell_type": "code",
   "execution_count": 1,
   "metadata": {},
   "outputs": [],
   "source": [
    "import os\n",
    "main = os.chdir(os.path.dirname(os.path.dirname(os.getcwd())))"
   ]
  },
  {
   "cell_type": "code",
   "execution_count": 2,
   "metadata": {},
   "outputs": [
    {
     "name": "stderr",
     "output_type": "stream",
     "text": [
      "Using TensorFlow backend.\n"
     ]
    }
   ],
   "source": [
    "import numpy as np\n",
    "import pandas as pd\n",
    "\n",
    "from model import model_architecture, output_results\n",
    "from pycox.models import CoxTime\n",
    "from sksurv.util import Surv as skSurv"
   ]
  },
  {
   "cell_type": "markdown",
   "metadata": {},
   "source": [
    "# I. METABRIC data"
   ]
  },
  {
   "cell_type": "markdown",
   "metadata": {},
   "source": [
    "We use METABRIC data. We use clinical and pathological informations and gene expression data. Missing values for explanatory variables are completed. Data is normalized (with mean and std from train set for train and test set) and splitted into training and test set. The same training and test set are used for all the models.\n",
    "For Cox-Time, the time variable is included in the input data with the labtrans function."
   ]
  },
  {
   "cell_type": "code",
   "execution_count": 3,
   "metadata": {},
   "outputs": [],
   "source": [
    "name = \"CoxTime\""
   ]
  },
  {
   "cell_type": "code",
   "execution_count": 4,
   "metadata": {},
   "outputs": [],
   "source": [
    "df_train = pd.read_csv(\"data/real_data/metabric_train.csv\")\n",
    "data_train = skSurv.from_arrays(event=df_train['cen_train'], time=df_train['surv_train'])\n",
    "x_train = np.array(df_train.drop(['surv_train','cen_train'], axis = 1), dtype = 'float32')\n",
    "labtrans = CoxTime.label_transform(with_mean = False, with_std = False)\n",
    "get_target = lambda df: (df['surv_train'].values, df['cen_train'].values)\n",
    "y_train = labtrans.fit_transform(*get_target(df_train))\n",
    "\n",
    "df_test = pd.read_csv(\"data/real_data/metabric_test.csv\")\n",
    "x_test = np.array(df_test.drop(['surv_test','cen_test'], axis = 1), dtype = 'float32')"
   ]
  },
  {
   "cell_type": "markdown",
   "metadata": {},
   "source": [
    "# II. Model's construction and training"
   ]
  },
  {
   "cell_type": "markdown",
   "metadata": {},
   "source": [
    "The parameters of the architecture are the one listed in the parameters dataframe, selected by a 5-fold cross-validation among 100 sets of parameters. "
   ]
  },
  {
   "cell_type": "code",
   "execution_count": 5,
   "metadata": {},
   "outputs": [],
   "source": [
    "param = pd.read_csv(\"model/param_metabric.csv\",sep=';', index_col = 0).T\n",
    "param_final = param.loc[name]"
   ]
  },
  {
   "cell_type": "code",
   "execution_count": 6,
   "metadata": {},
   "outputs": [
    {
     "name": "stdout",
     "output_type": "stream",
     "text": [
      "neurons           32\n",
      "drop             0.3\n",
      "activation       elu\n",
      "lr_opt        0.0025\n",
      "optimizer       adam\n",
      "n_layers           3\n",
      "Name: CoxTime, dtype: object\n"
     ]
    }
   ],
   "source": [
    "print(param_final)"
   ]
  },
  {
   "cell_type": "code",
   "execution_count": 7,
   "metadata": {},
   "outputs": [],
   "source": [
    "neurons = int(param_final['neurons'])\n",
    "drop = float(param_final['drop'])\n",
    "activation = param_final['activation']\n",
    "lr_opt = float(param_final['lr_opt'])\n",
    "optimizer = param_final['optimizer']\n",
    "n_layers = int(param_final['n_layers'])"
   ]
  },
  {
   "cell_type": "markdown",
   "metadata": {},
   "source": [
    "The objective function is used to define the architecture of the neural network. "
   ]
  },
  {
   "cell_type": "code",
   "execution_count": 8,
   "metadata": {
    "scrolled": true
   },
   "outputs": [
    {
     "name": "stdout",
     "output_type": "stream",
     "text": [
      "0:\t[0s / 0s],\t\ttrain_loss: 0.7361\n",
      "1:\t[0s / 0s],\t\ttrain_loss: 0.7119\n",
      "2:\t[0s / 0s],\t\ttrain_loss: 0.6767\n",
      "3:\t[0s / 0s],\t\ttrain_loss: 0.6616\n",
      "4:\t[0s / 1s],\t\ttrain_loss: 0.6176\n",
      "5:\t[0s / 1s],\t\ttrain_loss: 0.5913\n",
      "6:\t[0s / 1s],\t\ttrain_loss: 0.6100\n",
      "7:\t[0s / 1s],\t\ttrain_loss: 0.6022\n",
      "8:\t[0s / 1s],\t\ttrain_loss: 0.5813\n",
      "9:\t[0s / 2s],\t\ttrain_loss: 0.5860\n",
      "10:\t[0s / 2s],\t\ttrain_loss: 0.6002\n",
      "11:\t[0s / 2s],\t\ttrain_loss: 0.5640\n",
      "12:\t[0s / 2s],\t\ttrain_loss: 0.5518\n",
      "13:\t[0s / 3s],\t\ttrain_loss: 0.5758\n",
      "14:\t[0s / 3s],\t\ttrain_loss: 0.5404\n",
      "15:\t[0s / 3s],\t\ttrain_loss: 0.5487\n",
      "16:\t[0s / 3s],\t\ttrain_loss: 0.5465\n",
      "17:\t[0s / 4s],\t\ttrain_loss: 0.5307\n",
      "18:\t[0s / 4s],\t\ttrain_loss: 0.5195\n",
      "19:\t[0s / 4s],\t\ttrain_loss: 0.5097\n",
      "20:\t[0s / 4s],\t\ttrain_loss: 0.5270\n",
      "21:\t[0s / 4s],\t\ttrain_loss: 0.5466\n",
      "22:\t[0s / 5s],\t\ttrain_loss: 0.5475\n",
      "23:\t[0s / 5s],\t\ttrain_loss: 0.4987\n",
      "24:\t[0s / 5s],\t\ttrain_loss: 0.5089\n",
      "25:\t[0s / 5s],\t\ttrain_loss: 0.5422\n",
      "26:\t[0s / 6s],\t\ttrain_loss: 0.5050\n",
      "27:\t[0s / 6s],\t\ttrain_loss: 0.5020\n",
      "28:\t[0s / 6s],\t\ttrain_loss: 0.4572\n",
      "29:\t[0s / 6s],\t\ttrain_loss: 0.4966\n",
      "30:\t[0s / 7s],\t\ttrain_loss: 0.4840\n",
      "31:\t[0s / 7s],\t\ttrain_loss: 0.4634\n",
      "32:\t[0s / 7s],\t\ttrain_loss: 0.5020\n",
      "33:\t[0s / 7s],\t\ttrain_loss: 0.4759\n",
      "34:\t[0s / 7s],\t\ttrain_loss: 0.4814\n",
      "35:\t[0s / 8s],\t\ttrain_loss: 0.4677\n",
      "36:\t[0s / 8s],\t\ttrain_loss: 0.4822\n",
      "37:\t[0s / 8s],\t\ttrain_loss: 0.4376\n",
      "38:\t[0s / 8s],\t\ttrain_loss: 0.4725\n",
      "39:\t[0s / 9s],\t\ttrain_loss: 0.4260\n",
      "40:\t[0s / 9s],\t\ttrain_loss: 0.4857\n",
      "41:\t[0s / 9s],\t\ttrain_loss: 0.4356\n",
      "42:\t[0s / 9s],\t\ttrain_loss: 0.4464\n",
      "43:\t[0s / 9s],\t\ttrain_loss: 0.4443\n",
      "44:\t[0s / 10s],\t\ttrain_loss: 0.4223\n",
      "45:\t[0s / 10s],\t\ttrain_loss: 0.4601\n",
      "46:\t[0s / 10s],\t\ttrain_loss: 0.4401\n",
      "47:\t[0s / 10s],\t\ttrain_loss: 0.4159\n",
      "48:\t[0s / 10s],\t\ttrain_loss: 0.4289\n",
      "49:\t[0s / 11s],\t\ttrain_loss: 0.4289\n",
      "50:\t[0s / 11s],\t\ttrain_loss: 0.4361\n",
      "51:\t[0s / 11s],\t\ttrain_loss: 0.4063\n",
      "52:\t[0s / 11s],\t\ttrain_loss: 0.4096\n",
      "53:\t[0s / 12s],\t\ttrain_loss: 0.4021\n",
      "54:\t[0s / 12s],\t\ttrain_loss: 0.4467\n",
      "55:\t[0s / 12s],\t\ttrain_loss: 0.4330\n",
      "56:\t[0s / 12s],\t\ttrain_loss: 0.4282\n",
      "57:\t[0s / 13s],\t\ttrain_loss: 0.3976\n",
      "58:\t[0s / 13s],\t\ttrain_loss: 0.4248\n",
      "59:\t[0s / 13s],\t\ttrain_loss: 0.4168\n",
      "60:\t[0s / 13s],\t\ttrain_loss: 0.3915\n",
      "61:\t[0s / 13s],\t\ttrain_loss: 0.4016\n",
      "62:\t[0s / 14s],\t\ttrain_loss: 0.3992\n",
      "63:\t[0s / 14s],\t\ttrain_loss: 0.3799\n",
      "64:\t[0s / 14s],\t\ttrain_loss: 0.3934\n",
      "65:\t[0s / 14s],\t\ttrain_loss: 0.3943\n",
      "66:\t[0s / 14s],\t\ttrain_loss: 0.3806\n",
      "67:\t[0s / 15s],\t\ttrain_loss: 0.4144\n",
      "68:\t[0s / 15s],\t\ttrain_loss: 0.3993\n",
      "69:\t[0s / 15s],\t\ttrain_loss: 0.3936\n",
      "70:\t[0s / 15s],\t\ttrain_loss: 0.3728\n",
      "71:\t[0s / 16s],\t\ttrain_loss: 0.4209\n",
      "72:\t[0s / 16s],\t\ttrain_loss: 0.3854\n",
      "73:\t[0s / 16s],\t\ttrain_loss: 0.3774\n",
      "74:\t[0s / 16s],\t\ttrain_loss: 0.3529\n",
      "75:\t[0s / 16s],\t\ttrain_loss: 0.3421\n",
      "76:\t[0s / 17s],\t\ttrain_loss: 0.3585\n",
      "77:\t[0s / 17s],\t\ttrain_loss: 0.3496\n",
      "78:\t[0s / 17s],\t\ttrain_loss: 0.3668\n",
      "79:\t[0s / 17s],\t\ttrain_loss: 0.3291\n",
      "80:\t[0s / 18s],\t\ttrain_loss: 0.3770\n",
      "81:\t[0s / 18s],\t\ttrain_loss: 0.3411\n",
      "82:\t[0s / 18s],\t\ttrain_loss: 0.3585\n",
      "83:\t[0s / 18s],\t\ttrain_loss: 0.3427\n",
      "84:\t[0s / 18s],\t\ttrain_loss: 0.3991\n",
      "85:\t[0s / 19s],\t\ttrain_loss: 0.3308\n",
      "86:\t[0s / 19s],\t\ttrain_loss: 0.3890\n",
      "87:\t[0s / 19s],\t\ttrain_loss: 0.3474\n",
      "88:\t[0s / 19s],\t\ttrain_loss: 0.3657\n",
      "89:\t[0s / 20s],\t\ttrain_loss: 0.3366\n",
      "90:\t[0s / 20s],\t\ttrain_loss: 0.3313\n",
      "91:\t[0s / 20s],\t\ttrain_loss: 0.3509\n",
      "92:\t[0s / 20s],\t\ttrain_loss: 0.3183\n",
      "93:\t[0s / 20s],\t\ttrain_loss: 0.3392\n",
      "94:\t[0s / 21s],\t\ttrain_loss: 0.3489\n",
      "95:\t[0s / 21s],\t\ttrain_loss: 0.3376\n",
      "96:\t[0s / 21s],\t\ttrain_loss: 0.3295\n",
      "97:\t[0s / 21s],\t\ttrain_loss: 0.3587\n",
      "98:\t[0s / 22s],\t\ttrain_loss: 0.3095\n",
      "99:\t[0s / 22s],\t\ttrain_loss: 0.3591\n"
     ]
    }
   ],
   "source": [
    "model,callbacks  = model_architecture.objective(x_train,  neurons, drop, activation, lr_opt, optimizer, n_layers,name, labtrans = labtrans)\n",
    "log = model.fit(x_train, y_train,neurons, epochs = 100,callbacks = callbacks, verbose=True)"
   ]
  },
  {
   "cell_type": "markdown",
   "metadata": {},
   "source": [
    "# III. Results"
   ]
  },
  {
   "cell_type": "markdown",
   "metadata": {},
   "source": [
    "We sample 100 test sets iteratively among the test dataset to obtain bootstraped results. "
   ]
  },
  {
   "cell_type": "code",
   "execution_count": 9,
   "metadata": {
    "scrolled": true
   },
   "outputs": [
    {
     "name": "stdout",
     "output_type": "stream",
     "text": [
      "0\n",
      "1\n",
      "2\n",
      "3\n",
      "4\n",
      "5\n",
      "6\n",
      "7\n",
      "8\n",
      "9\n",
      "10\n",
      "11\n",
      "12\n",
      "13\n",
      "14\n",
      "15\n",
      "16\n",
      "17\n",
      "18\n",
      "19\n",
      "20\n",
      "21\n",
      "22\n",
      "23\n",
      "24\n",
      "25\n",
      "26\n",
      "27\n",
      "28\n",
      "29\n",
      "30\n",
      "31\n",
      "32\n",
      "33\n",
      "34\n",
      "35\n",
      "36\n",
      "37\n",
      "38\n",
      "39\n",
      "40\n",
      "41\n",
      "42\n",
      "43\n",
      "44\n",
      "45\n",
      "46\n",
      "47\n",
      "48\n",
      "49\n",
      "50\n",
      "51\n",
      "52\n",
      "53\n",
      "54\n",
      "55\n",
      "56\n",
      "57\n",
      "58\n",
      "59\n",
      "60\n",
      "61\n",
      "62\n",
      "63\n",
      "64\n",
      "65\n",
      "66\n",
      "67\n",
      "68\n",
      "69\n",
      "70\n",
      "71\n",
      "72\n",
      "73\n",
      "74\n",
      "75\n",
      "76\n",
      "77\n",
      "78\n",
      "79\n",
      "80\n",
      "81\n",
      "82\n",
      "83\n",
      "84\n",
      "85\n",
      "86\n",
      "87\n",
      "88\n",
      "89\n",
      "90\n",
      "91\n",
      "92\n",
      "93\n",
      "94\n",
      "95\n",
      "96\n",
      "97\n",
      "98\n",
      "99\n"
     ]
    }
   ],
   "source": [
    "n_iterations = 100\n",
    "results_all = output_results.output_bootstrap(model, n_iterations, df_train, data_train, y_train, df_test,name)"
   ]
  },
  {
   "cell_type": "markdown",
   "metadata": {},
   "source": [
    "We output the AUC value at 5 and 10 years and Uno's C-index at 5 and 10 years, with 95% Confidence Intervals."
   ]
  },
  {
   "cell_type": "code",
   "execution_count": 10,
   "metadata": {},
   "outputs": [
    {
     "data": {
      "text/html": [
       "<div>\n",
       "<style scoped>\n",
       "    .dataframe tbody tr th:only-of-type {\n",
       "        vertical-align: middle;\n",
       "    }\n",
       "\n",
       "    .dataframe tbody tr th {\n",
       "        vertical-align: top;\n",
       "    }\n",
       "\n",
       "    .dataframe thead th {\n",
       "        text-align: right;\n",
       "    }\n",
       "</style>\n",
       "<table border=\"1\" class=\"dataframe\">\n",
       "  <thead>\n",
       "    <tr style=\"text-align: right;\">\n",
       "      <th></th>\n",
       "      <th>mean</th>\n",
       "      <th>ci95_lo</th>\n",
       "      <th>ci95_hi</th>\n",
       "      <th>std</th>\n",
       "      <th>count</th>\n",
       "    </tr>\n",
       "  </thead>\n",
       "  <tbody>\n",
       "    <tr>\n",
       "      <th>auc5</th>\n",
       "      <td>0.726731</td>\n",
       "      <td>0.674353</td>\n",
       "      <td>0.778858</td>\n",
       "      <td>0.032067</td>\n",
       "      <td>100.0</td>\n",
       "    </tr>\n",
       "    <tr>\n",
       "      <th>auc10</th>\n",
       "      <td>0.741634</td>\n",
       "      <td>0.689331</td>\n",
       "      <td>0.806766</td>\n",
       "      <td>0.031462</td>\n",
       "      <td>100.0</td>\n",
       "    </tr>\n",
       "    <tr>\n",
       "      <th>unoc5</th>\n",
       "      <td>0.699927</td>\n",
       "      <td>0.655048</td>\n",
       "      <td>0.745196</td>\n",
       "      <td>0.026933</td>\n",
       "      <td>100.0</td>\n",
       "    </tr>\n",
       "    <tr>\n",
       "      <th>unoc10</th>\n",
       "      <td>0.687354</td>\n",
       "      <td>0.653115</td>\n",
       "      <td>0.730121</td>\n",
       "      <td>0.023435</td>\n",
       "      <td>100.0</td>\n",
       "    </tr>\n",
       "  </tbody>\n",
       "</table>\n",
       "</div>"
      ],
      "text/plain": [
       "            mean   ci95_lo   ci95_hi       std  count\n",
       "auc5    0.726731  0.674353  0.778858  0.032067  100.0\n",
       "auc10   0.741634  0.689331  0.806766  0.031462  100.0\n",
       "unoc5   0.699927  0.655048  0.745196  0.026933  100.0\n",
       "unoc10  0.687354  0.653115  0.730121  0.023435  100.0"
      ]
     },
     "execution_count": 10,
     "metadata": {},
     "output_type": "execute_result"
    }
   ],
   "source": [
    "results_all"
   ]
  }
 ],
 "metadata": {
  "kernelspec": {
   "display_name": "nnet_compare",
   "language": "python",
   "name": "myenv"
  },
  "language_info": {
   "codemirror_mode": {
    "name": "ipython",
    "version": 3
   },
   "file_extension": ".py",
   "mimetype": "text/x-python",
   "name": "python",
   "nbconvert_exporter": "python",
   "pygments_lexer": "ipython3",
   "version": "3.7.7"
  }
 },
 "nbformat": 4,
 "nbformat_minor": 2
}
