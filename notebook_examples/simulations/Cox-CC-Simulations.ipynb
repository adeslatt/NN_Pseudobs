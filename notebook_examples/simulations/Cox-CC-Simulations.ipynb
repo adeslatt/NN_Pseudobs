{
 "cells": [
  {
   "cell_type": "code",
   "execution_count": 1,
   "metadata": {},
   "outputs": [],
   "source": [
    "import os\n",
    "main = os.chdir(os.path.dirname(os.path.dirname(os.getcwd())))"
   ]
  },
  {
   "cell_type": "code",
   "execution_count": 2,
   "metadata": {},
   "outputs": [
    {
     "name": "stderr",
     "output_type": "stream",
     "text": [
      "Using TensorFlow backend.\n"
     ]
    }
   ],
   "source": [
    "import numpy as np\n",
    "import pandas as pd\n",
    "\n",
    "from model import model_architecture, output_results, utils\n",
    "from sksurv.util import Surv as skSurv"
   ]
  },
  {
   "cell_type": "markdown",
   "metadata": {},
   "source": [
    "# I. Simulations"
   ]
  },
  {
   "cell_type": "markdown",
   "metadata": {},
   "source": [
    "We choose the censoring rate of the simulated data (it can be either 0.2, 0.4 or 0.6). Data is simulated by the random function generator introduced by Friedman et al. (2001). \n",
    "Data is normalized (with mean and std from train set for train and test set) and splitted into training and test set (df_train and df_test are subsets of df_sim). The same training and test set are used for all the models."
   ]
  },
  {
   "cell_type": "code",
   "execution_count": 3,
   "metadata": {},
   "outputs": [],
   "source": [
    "name = \"Cox-CC\""
   ]
  },
  {
   "cell_type": "code",
   "execution_count": 4,
   "metadata": {},
   "outputs": [],
   "source": [
    "rate = \"0.2\" "
   ]
  },
  {
   "cell_type": "code",
   "execution_count": 5,
   "metadata": {},
   "outputs": [],
   "source": [
    "dir_sim = \"data/simulations/\"+rate+\"/\""
   ]
  },
  {
   "cell_type": "code",
   "execution_count": 6,
   "metadata": {},
   "outputs": [],
   "source": [
    "df_sim = pd.read_csv(dir_sim+'simdata.csv')\n",
    "df_train = pd.read_csv(dir_sim+'sim_train.csv')\n",
    "df_test = pd.read_csv(dir_sim+'sim_test.csv')"
   ]
  },
  {
   "cell_type": "code",
   "execution_count": 7,
   "metadata": {},
   "outputs": [],
   "source": [
    "x_train, x_test = utils.normed_data(df_train, df_test)\n",
    "def get_target(df): return df['yy'].values, df['status'].values\n",
    "y_train = get_target(df_train)\n",
    "duration_test, event_test = get_target(df_test)"
   ]
  },
  {
   "cell_type": "markdown",
   "metadata": {},
   "source": [
    "# II. Model's construction and training"
   ]
  },
  {
   "cell_type": "markdown",
   "metadata": {},
   "source": [
    "The parameters of the architecture are the one listed in the parameters dataframe, selected by a 5-fold cross-validation among 100 sets of parameters. "
   ]
  },
  {
   "cell_type": "code",
   "execution_count": 8,
   "metadata": {},
   "outputs": [],
   "source": [
    "param = pd.read_csv(\"model/param_simu_\"+rate+\".csv\",sep=';', index_col = 0).T\n",
    "param_final = param.loc[name]"
   ]
  },
  {
   "cell_type": "code",
   "execution_count": 9,
   "metadata": {},
   "outputs": [
    {
     "data": {
      "text/plain": [
       "neurons         16\n",
       "drop           0.2\n",
       "activation    relu\n",
       "lr_opt        0.01\n",
       "optimizer     adam\n",
       "n_layers         1\n",
       "Name: Cox-CC, dtype: object"
      ]
     },
     "execution_count": 9,
     "metadata": {},
     "output_type": "execute_result"
    }
   ],
   "source": [
    "param_final"
   ]
  },
  {
   "cell_type": "code",
   "execution_count": 10,
   "metadata": {},
   "outputs": [],
   "source": [
    "neurons = int(param_final['neurons'])\n",
    "drop = float(param_final['drop'])\n",
    "activation = param_final['activation']\n",
    "lr_opt = float(param_final['lr_opt'])\n",
    "optimizer = param_final['optimizer']\n",
    "n_layers = int(param_final['n_layers'])"
   ]
  },
  {
   "cell_type": "markdown",
   "metadata": {},
   "source": [
    "The objective function is used to define the architecture of the neural network. "
   ]
  },
  {
   "cell_type": "code",
   "execution_count": 11,
   "metadata": {
    "scrolled": true
   },
   "outputs": [
    {
     "name": "stdout",
     "output_type": "stream",
     "text": [
      "0:\t[0s / 0s],\t\ttrain_loss: 0.6979\n",
      "1:\t[0s / 0s],\t\ttrain_loss: 0.6411\n",
      "2:\t[0s / 0s],\t\ttrain_loss: 0.6160\n",
      "3:\t[0s / 0s],\t\ttrain_loss: 0.6165\n",
      "4:\t[0s / 1s],\t\ttrain_loss: 0.6279\n",
      "5:\t[0s / 1s],\t\ttrain_loss: 0.6041\n",
      "6:\t[0s / 1s],\t\ttrain_loss: 0.5800\n",
      "7:\t[0s / 1s],\t\ttrain_loss: 0.5912\n",
      "8:\t[0s / 1s],\t\ttrain_loss: 0.5903\n",
      "9:\t[0s / 2s],\t\ttrain_loss: 0.5693\n",
      "10:\t[0s / 2s],\t\ttrain_loss: 0.5406\n",
      "11:\t[0s / 2s],\t\ttrain_loss: 0.6039\n",
      "12:\t[0s / 2s],\t\ttrain_loss: 0.5836\n",
      "13:\t[0s / 2s],\t\ttrain_loss: 0.5623\n",
      "14:\t[0s / 3s],\t\ttrain_loss: 0.5645\n",
      "15:\t[0s / 3s],\t\ttrain_loss: 0.5296\n",
      "16:\t[0s / 3s],\t\ttrain_loss: 0.5266\n",
      "17:\t[0s / 3s],\t\ttrain_loss: 0.5392\n",
      "18:\t[0s / 4s],\t\ttrain_loss: 0.5114\n",
      "19:\t[0s / 4s],\t\ttrain_loss: 0.5575\n",
      "20:\t[0s / 4s],\t\ttrain_loss: 0.5292\n",
      "21:\t[0s / 4s],\t\ttrain_loss: 0.5110\n",
      "22:\t[0s / 4s],\t\ttrain_loss: 0.5549\n",
      "23:\t[0s / 5s],\t\ttrain_loss: 0.5621\n",
      "24:\t[0s / 5s],\t\ttrain_loss: 0.5649\n",
      "25:\t[0s / 5s],\t\ttrain_loss: 0.5581\n",
      "26:\t[0s / 5s],\t\ttrain_loss: 0.5986\n",
      "27:\t[0s / 5s],\t\ttrain_loss: 0.5611\n",
      "28:\t[0s / 6s],\t\ttrain_loss: 0.5402\n",
      "29:\t[0s / 6s],\t\ttrain_loss: 0.5554\n",
      "30:\t[0s / 6s],\t\ttrain_loss: 0.5235\n",
      "31:\t[0s / 6s],\t\ttrain_loss: 0.5324\n",
      "32:\t[0s / 6s],\t\ttrain_loss: 0.5339\n",
      "33:\t[0s / 7s],\t\ttrain_loss: 0.5271\n",
      "34:\t[0s / 7s],\t\ttrain_loss: 0.5160\n",
      "35:\t[0s / 7s],\t\ttrain_loss: 0.5061\n",
      "36:\t[0s / 7s],\t\ttrain_loss: 0.5088\n",
      "37:\t[0s / 7s],\t\ttrain_loss: 0.5193\n",
      "38:\t[0s / 8s],\t\ttrain_loss: 0.5561\n",
      "39:\t[0s / 8s],\t\ttrain_loss: 0.5259\n",
      "40:\t[0s / 8s],\t\ttrain_loss: 0.5124\n",
      "41:\t[0s / 8s],\t\ttrain_loss: 0.5241\n",
      "42:\t[0s / 8s],\t\ttrain_loss: 0.5405\n",
      "43:\t[0s / 9s],\t\ttrain_loss: 0.5235\n",
      "44:\t[0s / 9s],\t\ttrain_loss: 0.5077\n",
      "45:\t[0s / 9s],\t\ttrain_loss: 0.5377\n",
      "46:\t[0s / 9s],\t\ttrain_loss: 0.5246\n",
      "47:\t[0s / 10s],\t\ttrain_loss: 0.5063\n",
      "48:\t[0s / 10s],\t\ttrain_loss: 0.5386\n",
      "49:\t[0s / 10s],\t\ttrain_loss: 0.5166\n",
      "50:\t[0s / 10s],\t\ttrain_loss: 0.4935\n",
      "51:\t[0s / 10s],\t\ttrain_loss: 0.5012\n",
      "52:\t[0s / 11s],\t\ttrain_loss: 0.5180\n",
      "53:\t[0s / 11s],\t\ttrain_loss: 0.5019\n",
      "54:\t[0s / 11s],\t\ttrain_loss: 0.5006\n",
      "55:\t[0s / 11s],\t\ttrain_loss: 0.5156\n",
      "56:\t[0s / 11s],\t\ttrain_loss: 0.5372\n",
      "57:\t[0s / 12s],\t\ttrain_loss: 0.5114\n",
      "58:\t[0s / 12s],\t\ttrain_loss: 0.5104\n",
      "59:\t[0s / 12s],\t\ttrain_loss: 0.4803\n",
      "60:\t[0s / 12s],\t\ttrain_loss: 0.5360\n",
      "61:\t[0s / 12s],\t\ttrain_loss: 0.4781\n",
      "62:\t[0s / 13s],\t\ttrain_loss: 0.5370\n",
      "63:\t[0s / 13s],\t\ttrain_loss: 0.5164\n",
      "64:\t[0s / 13s],\t\ttrain_loss: 0.5154\n",
      "65:\t[0s / 13s],\t\ttrain_loss: 0.5037\n",
      "66:\t[0s / 13s],\t\ttrain_loss: 0.4906\n",
      "67:\t[0s / 14s],\t\ttrain_loss: 0.4970\n",
      "68:\t[0s / 14s],\t\ttrain_loss: 0.5064\n",
      "69:\t[0s / 14s],\t\ttrain_loss: 0.5477\n",
      "70:\t[0s / 14s],\t\ttrain_loss: 0.4979\n",
      "71:\t[0s / 15s],\t\ttrain_loss: 0.5182\n",
      "72:\t[0s / 15s],\t\ttrain_loss: 0.4788\n",
      "73:\t[0s / 15s],\t\ttrain_loss: 0.4941\n",
      "74:\t[0s / 15s],\t\ttrain_loss: 0.4980\n",
      "75:\t[0s / 15s],\t\ttrain_loss: 0.4798\n",
      "76:\t[0s / 16s],\t\ttrain_loss: 0.5360\n",
      "77:\t[0s / 16s],\t\ttrain_loss: 0.4858\n",
      "78:\t[0s / 16s],\t\ttrain_loss: 0.4874\n",
      "79:\t[0s / 16s],\t\ttrain_loss: 0.4906\n",
      "80:\t[0s / 16s],\t\ttrain_loss: 0.5362\n",
      "81:\t[0s / 16s],\t\ttrain_loss: 0.4937\n",
      "82:\t[0s / 17s],\t\ttrain_loss: 0.5027\n",
      "83:\t[0s / 17s],\t\ttrain_loss: 0.4806\n",
      "84:\t[0s / 17s],\t\ttrain_loss: 0.5008\n",
      "85:\t[0s / 17s],\t\ttrain_loss: 0.4793\n",
      "86:\t[0s / 17s],\t\ttrain_loss: 0.5348\n",
      "87:\t[0s / 18s],\t\ttrain_loss: 0.4996\n",
      "88:\t[0s / 18s],\t\ttrain_loss: 0.5050\n",
      "89:\t[0s / 18s],\t\ttrain_loss: 0.5242\n",
      "90:\t[0s / 18s],\t\ttrain_loss: 0.5124\n",
      "91:\t[0s / 18s],\t\ttrain_loss: 0.5152\n",
      "92:\t[0s / 18s],\t\ttrain_loss: 0.4783\n",
      "93:\t[0s / 19s],\t\ttrain_loss: 0.4902\n",
      "94:\t[0s / 19s],\t\ttrain_loss: 0.5017\n",
      "95:\t[0s / 19s],\t\ttrain_loss: 0.5458\n",
      "96:\t[0s / 19s],\t\ttrain_loss: 0.5182\n",
      "97:\t[0s / 19s],\t\ttrain_loss: 0.5110\n",
      "98:\t[0s / 20s],\t\ttrain_loss: 0.5580\n",
      "99:\t[0s / 20s],\t\ttrain_loss: 0.4847\n"
     ]
    }
   ],
   "source": [
    "model,callbacks  = model_architecture.objective(x_train,  neurons, drop, activation, lr_opt, optimizer, n_layers,name)\n",
    "log = model.fit(x_train, y_train,neurons, epochs = 100,callbacks = callbacks, verbose=True)"
   ]
  },
  {
   "cell_type": "markdown",
   "metadata": {},
   "source": [
    "# III. Results"
   ]
  },
  {
   "cell_type": "markdown",
   "metadata": {},
   "source": [
    "We present here the results for one simulation dataset. We then simulate 100 datasets for one censoring rate and output the results for the 100 datasets. "
   ]
  },
  {
   "cell_type": "code",
   "execution_count": 12,
   "metadata": {},
   "outputs": [],
   "source": [
    "_ = model.compute_baseline_hazards()\n",
    "surv = model.predict_surv_df(x_test)\n",
    "results_all = output_results.output_simulations(surv,df_train, x_test, df_test, name)"
   ]
  },
  {
   "cell_type": "markdown",
   "metadata": {},
   "source": [
    "We output the median survival time, the AUC value for this time, Uno's C-index for median time and the final censoring rate of the simulated dataset."
   ]
  },
  {
   "cell_type": "code",
   "execution_count": 13,
   "metadata": {},
   "outputs": [
    {
     "data": {
      "text/html": [
       "<div>\n",
       "<style scoped>\n",
       "    .dataframe tbody tr th:only-of-type {\n",
       "        vertical-align: middle;\n",
       "    }\n",
       "\n",
       "    .dataframe tbody tr th {\n",
       "        vertical-align: top;\n",
       "    }\n",
       "\n",
       "    .dataframe thead th {\n",
       "        text-align: right;\n",
       "    }\n",
       "</style>\n",
       "<table border=\"1\" class=\"dataframe\">\n",
       "  <thead>\n",
       "    <tr style=\"text-align: right;\">\n",
       "      <th></th>\n",
       "      <th>t_med</th>\n",
       "      <th>auc_med</th>\n",
       "      <th>unoc</th>\n",
       "      <th>cens_rate</th>\n",
       "    </tr>\n",
       "  </thead>\n",
       "  <tbody>\n",
       "    <tr>\n",
       "      <th>0</th>\n",
       "      <td>1.203649</td>\n",
       "      <td>0.884677</td>\n",
       "      <td>0.813185</td>\n",
       "      <td>19.333333</td>\n",
       "    </tr>\n",
       "  </tbody>\n",
       "</table>\n",
       "</div>"
      ],
      "text/plain": [
       "      t_med   auc_med      unoc  cens_rate\n",
       "0  1.203649  0.884677  0.813185  19.333333"
      ]
     },
     "execution_count": 13,
     "metadata": {},
     "output_type": "execute_result"
    }
   ],
   "source": [
    "results_all"
   ]
  }
 ],
 "metadata": {
  "kernelspec": {
   "display_name": "nnet_compare",
   "language": "python",
   "name": "myenv"
  },
  "language_info": {
   "codemirror_mode": {
    "name": "ipython",
    "version": 3
   },
   "file_extension": ".py",
   "mimetype": "text/x-python",
   "name": "python",
   "nbconvert_exporter": "python",
   "pygments_lexer": "ipython3",
   "version": "3.7.7"
  }
 },
 "nbformat": 4,
 "nbformat_minor": 2
}
