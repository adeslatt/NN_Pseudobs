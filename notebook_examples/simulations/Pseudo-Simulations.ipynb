{
 "cells": [
  {
   "cell_type": "code",
   "execution_count": 1,
   "metadata": {},
   "outputs": [],
   "source": [
    "import os\n",
    "main = os.chdir(os.path.dirname(os.path.dirname(os.getcwd())))"
   ]
  },
  {
   "cell_type": "code",
   "execution_count": 2,
   "metadata": {},
   "outputs": [
    {
     "name": "stderr",
     "output_type": "stream",
     "text": [
      "Using TensorFlow backend.\n"
     ]
    }
   ],
   "source": [
    "import numpy as np\n",
    "import pandas as pd\n",
    "\n",
    "from model import model_architecture, output_results, utils\n",
    "from sksurv.util import Surv as skSurv"
   ]
  },
  {
   "cell_type": "markdown",
   "metadata": {},
   "source": [
    "# I. Simulations"
   ]
  },
  {
   "cell_type": "markdown",
   "metadata": {},
   "source": [
    "We first choose the type of pseudo-observation we want to use among the followings:\n",
    "- \"pseudo-optim\"\n",
    "- \"pseudo-km\"\n",
    "- \"pseudo-continuous\"\n",
    "- \"pseudo-discrete\""
   ]
  },
  {
   "cell_type": "code",
   "execution_count": 3,
   "metadata": {},
   "outputs": [],
   "source": [
    "name = \"pseudo-optim\" "
   ]
  },
  {
   "cell_type": "markdown",
   "metadata": {},
   "source": [
    "We choose the censoring rate of the simulated data (it can be either 0.2, 0.4 or 0.6). Data is simulated by the random function generator introduced by Friedman et al. (2001). \n",
    "Data is normalized (with mean and std from train set for train and test set) and splitted into training and test set (df_train and df_test are subsets of df_sim). The same training and test set are used for all the models."
   ]
  },
  {
   "cell_type": "code",
   "execution_count": 4,
   "metadata": {},
   "outputs": [],
   "source": [
    "rate = \"0.2\" "
   ]
  },
  {
   "cell_type": "code",
   "execution_count": 5,
   "metadata": {},
   "outputs": [],
   "source": [
    "dir_sim = \"data/simulations/\"+rate+\"/\""
   ]
  },
  {
   "cell_type": "code",
   "execution_count": 6,
   "metadata": {},
   "outputs": [],
   "source": [
    "df_sim = pd.read_csv(dir_sim+'simdata.csv')\n",
    "df_train = pd.read_csv(dir_sim+'sim_train.csv')\n",
    "y_train = pd.read_csv(dir_sim+ name + \"_\" + str(rate) +\".csv\")\n",
    "\n",
    "df_test = pd.read_csv(dir_sim+'sim_test.csv')\n",
    "y_test_all = df_test[['yy','status']]\n",
    "durations_test, events_test = df_test['yy'].values, df_test['status'].values"
   ]
  },
  {
   "cell_type": "code",
   "execution_count": 7,
   "metadata": {},
   "outputs": [],
   "source": [
    "x_train, x_test = utils.normed_data(df_train, df_test)\n",
    "x_train_all, y_train_all, x_test_all = utils.prepare_pseudobs(x_train, y_train, df_train, x_test, df_test, name)"
   ]
  },
  {
   "cell_type": "markdown",
   "metadata": {},
   "source": [
    "# II. Model's construction and training"
   ]
  },
  {
   "cell_type": "markdown",
   "metadata": {},
   "source": [
    "The parameters of the architecture are the one listed in the parameters dataframe, selected by a 5-fold cross-validation among 100 sets of parameters. "
   ]
  },
  {
   "cell_type": "code",
   "execution_count": 8,
   "metadata": {},
   "outputs": [],
   "source": [
    "param = pd.read_csv(\"model/param_simu_\"+rate+\".csv\",sep=';', index_col = 0).T\n",
    "param_final = param.loc[name]"
   ]
  },
  {
   "cell_type": "code",
   "execution_count": 9,
   "metadata": {},
   "outputs": [
    {
     "data": {
      "text/plain": [
       "neurons           128\n",
       "drop              0.6\n",
       "activation       relu\n",
       "lr_opt         0.0025\n",
       "optimizer     rmsprop\n",
       "n_layers            2\n",
       "Name: pseudo-optim, dtype: object"
      ]
     },
     "execution_count": 9,
     "metadata": {},
     "output_type": "execute_result"
    }
   ],
   "source": [
    "param_final"
   ]
  },
  {
   "cell_type": "code",
   "execution_count": 10,
   "metadata": {},
   "outputs": [],
   "source": [
    "neurons = int(param_final['neurons'])\n",
    "drop = float(param_final['drop'])\n",
    "activation = param_final['activation']\n",
    "lr_opt = float(param_final['lr_opt'])\n",
    "optimizer = param_final['optimizer']\n",
    "n_layers = int(param_final['n_layers'])"
   ]
  },
  {
   "cell_type": "markdown",
   "metadata": {},
   "source": [
    "The objective function is used to define the architecture of the neural network. "
   ]
  },
  {
   "cell_type": "code",
   "execution_count": 11,
   "metadata": {
    "scrolled": true
   },
   "outputs": [
    {
     "name": "stdout",
     "output_type": "stream",
     "text": [
      "WARNING:tensorflow:Large dropout rate: 0.6 (>0.5). In TensorFlow 2.x, dropout() uses dropout rate instead of keep_prob. Please ensure that this is intended.\n",
      "WARNING:tensorflow:Large dropout rate: 0.6 (>0.5). In TensorFlow 2.x, dropout() uses dropout rate instead of keep_prob. Please ensure that this is intended.\n",
      "Epoch 1/100\n",
      " - 1s - loss: 0.2295\n",
      "Epoch 2/100\n",
      " - 1s - loss: 0.1686\n",
      "Epoch 3/100\n",
      " - 1s - loss: 0.1481\n",
      "Epoch 4/100\n",
      " - 1s - loss: 0.1441\n",
      "Epoch 5/100\n",
      " - 1s - loss: 0.1363\n",
      "Epoch 6/100\n",
      " - 1s - loss: 0.1307\n",
      "Epoch 7/100\n",
      " - 1s - loss: 0.1286\n",
      "Epoch 8/100\n",
      " - 1s - loss: 0.1252\n",
      "Epoch 9/100\n",
      " - 1s - loss: 0.1234\n",
      "Epoch 10/100\n",
      " - 1s - loss: 0.1186\n",
      "Epoch 11/100\n",
      " - 1s - loss: 0.1177\n",
      "Epoch 12/100\n",
      " - 1s - loss: 0.1143\n",
      "Epoch 13/100\n",
      " - 1s - loss: 0.1149\n",
      "Epoch 14/100\n",
      " - 1s - loss: 0.1105\n",
      "Epoch 15/100\n",
      " - 1s - loss: 0.1102\n",
      "Epoch 16/100\n",
      " - 1s - loss: 0.1122\n",
      "Epoch 17/100\n",
      " - 1s - loss: 0.1084\n",
      "Epoch 18/100\n",
      " - 1s - loss: 0.1084\n",
      "Epoch 19/100\n",
      " - 1s - loss: 0.1067\n",
      "Epoch 20/100\n",
      " - 1s - loss: 0.1035\n",
      "Epoch 21/100\n",
      " - 1s - loss: 0.1057\n",
      "Epoch 22/100\n",
      " - 1s - loss: 0.1047\n",
      "Epoch 23/100\n",
      " - 1s - loss: 0.1065\n",
      "Epoch 24/100\n",
      " - 1s - loss: 0.1044\n",
      "Epoch 25/100\n",
      " - 1s - loss: 0.1039\n",
      "Epoch 26/100\n",
      " - 1s - loss: 0.1018\n",
      "Epoch 27/100\n",
      " - 1s - loss: 0.1039\n",
      "Epoch 28/100\n",
      " - 1s - loss: 0.0983\n",
      "Epoch 29/100\n",
      " - 1s - loss: 0.1010\n",
      "Epoch 30/100\n",
      " - 1s - loss: 0.0988\n",
      "Epoch 31/100\n",
      " - 1s - loss: 0.0997\n",
      "Epoch 32/100\n",
      " - 1s - loss: 0.0955\n",
      "Epoch 33/100\n",
      " - 1s - loss: 0.0974\n",
      "Epoch 34/100\n",
      " - 1s - loss: 0.0990\n",
      "Epoch 35/100\n",
      " - 1s - loss: 0.0982\n",
      "Epoch 36/100\n",
      " - 1s - loss: 0.0984\n",
      "Epoch 37/100\n",
      " - 1s - loss: 0.0961\n",
      "Epoch 38/100\n",
      " - 1s - loss: 0.0930\n",
      "Epoch 39/100\n",
      " - 1s - loss: 0.0925\n",
      "Epoch 40/100\n",
      " - 1s - loss: 0.0948\n",
      "Epoch 41/100\n",
      " - 1s - loss: 0.0968\n",
      "Epoch 42/100\n",
      " - 1s - loss: 0.0943\n",
      "Epoch 43/100\n",
      " - 1s - loss: 0.0942\n",
      "Epoch 44/100\n",
      " - 1s - loss: 0.0940\n",
      "Epoch 45/100\n",
      " - 1s - loss: 0.0910\n",
      "Epoch 46/100\n",
      " - 1s - loss: 0.0955\n",
      "Epoch 47/100\n",
      " - 1s - loss: 0.0947\n",
      "Epoch 48/100\n",
      " - 1s - loss: 0.0959\n",
      "Epoch 49/100\n",
      " - 1s - loss: 0.0937\n",
      "Epoch 50/100\n",
      " - 1s - loss: 0.0907\n",
      "Epoch 51/100\n",
      " - 1s - loss: 0.0922\n",
      "Epoch 52/100\n",
      " - 1s - loss: 0.0938\n",
      "Epoch 53/100\n",
      " - 1s - loss: 0.0940\n",
      "Epoch 54/100\n",
      " - 1s - loss: 0.0916\n",
      "Epoch 55/100\n",
      " - 1s - loss: 0.0905\n",
      "Epoch 56/100\n",
      " - 1s - loss: 0.0935\n",
      "Epoch 57/100\n",
      " - 1s - loss: 0.0914\n",
      "Epoch 58/100\n",
      " - 1s - loss: 0.0885\n",
      "Epoch 59/100\n",
      " - 1s - loss: 0.0908\n",
      "Epoch 60/100\n",
      " - 1s - loss: 0.0901\n",
      "Epoch 61/100\n",
      " - 1s - loss: 0.0893\n",
      "Epoch 62/100\n",
      " - 1s - loss: 0.0919\n",
      "Epoch 63/100\n",
      " - 1s - loss: 0.0879\n",
      "Epoch 64/100\n",
      " - 1s - loss: 0.0919\n",
      "Epoch 65/100\n",
      " - 1s - loss: 0.0887\n",
      "Epoch 66/100\n",
      " - 1s - loss: 0.0935\n",
      "Epoch 67/100\n",
      " - 1s - loss: 0.0903\n",
      "Epoch 68/100\n",
      " - 1s - loss: 0.0872\n",
      "Epoch 69/100\n",
      " - 1s - loss: 0.0875\n",
      "Epoch 70/100\n",
      " - 1s - loss: 0.0894\n",
      "Epoch 71/100\n",
      " - 1s - loss: 0.0927\n",
      "Epoch 72/100\n",
      " - 1s - loss: 0.0881\n",
      "Epoch 73/100\n",
      " - 1s - loss: 0.0909\n",
      "Epoch 74/100\n",
      " - 1s - loss: 0.0890\n",
      "Epoch 75/100\n",
      " - 1s - loss: 0.0857\n",
      "Epoch 76/100\n",
      " - 1s - loss: 0.0870\n",
      "Epoch 77/100\n",
      " - 1s - loss: 0.0907\n",
      "Epoch 78/100\n",
      " - 1s - loss: 0.0880\n",
      "Epoch 79/100\n",
      " - 1s - loss: 0.0883\n",
      "Epoch 80/100\n",
      " - 1s - loss: 0.0888\n",
      "Epoch 81/100\n",
      " - 1s - loss: 0.0870\n",
      "Epoch 82/100\n",
      " - 1s - loss: 0.0909\n",
      "Epoch 83/100\n",
      " - 1s - loss: 0.0874\n",
      "Epoch 84/100\n",
      " - 1s - loss: 0.0885\n",
      "Epoch 85/100\n",
      " - 1s - loss: 0.0851\n",
      "Epoch 86/100\n",
      " - 1s - loss: 0.0901\n",
      "Epoch 87/100\n",
      " - 1s - loss: 0.0876\n",
      "Epoch 88/100\n",
      " - 1s - loss: 0.0871\n",
      "Epoch 89/100\n",
      " - 1s - loss: 0.0848\n",
      "Epoch 90/100\n",
      " - 1s - loss: 0.0836\n",
      "Epoch 91/100\n",
      " - 1s - loss: 0.0880\n",
      "Epoch 92/100\n",
      " - 1s - loss: 0.0852\n",
      "Epoch 93/100\n",
      " - 1s - loss: 0.0875\n",
      "Epoch 94/100\n",
      " - 1s - loss: 0.0844\n",
      "Epoch 95/100\n",
      " - 1s - loss: 0.0840\n",
      "Epoch 96/100\n",
      " - 1s - loss: 0.0824\n",
      "Epoch 97/100\n",
      " - 1s - loss: 0.0855\n",
      "Epoch 98/100\n",
      " - 1s - loss: 0.0850\n",
      "Epoch 99/100\n",
      " - 1s - loss: 0.0848\n",
      "Epoch 100/100\n",
      " - 1s - loss: 0.0865\n"
     ]
    }
   ],
   "source": [
    "model,callbacks  = model_architecture.objective_pseudobs(x_train_all, neurons, drop,  activation, lr_opt, optimizer, n_layers)\n",
    "log = model.fit(x_train_all, y_train_all, batch_size = 32, epochs = 100, callbacks = callbacks, verbose=2)"
   ]
  },
  {
   "cell_type": "markdown",
   "metadata": {},
   "source": [
    "# III. Results"
   ]
  },
  {
   "cell_type": "markdown",
   "metadata": {},
   "source": [
    "We present here the results for one simulation dataset. We then simulate 100 datasets for one censoring rate and output the results for the 100 datasets. "
   ]
  },
  {
   "cell_type": "code",
   "execution_count": 12,
   "metadata": {},
   "outputs": [],
   "source": [
    "surv = output_results.make_predictions_pseudobs(model, y_train, x_test_all, x_test,name)\n",
    "results_all = output_results.output_simulations(surv,df_train, x_test, df_test, name)"
   ]
  },
  {
   "cell_type": "markdown",
   "metadata": {},
   "source": [
    "We output the median survival time, the AUC value for this time, Uno's C-index for median time and the final censoring rate of the simulated dataset."
   ]
  },
  {
   "cell_type": "code",
   "execution_count": 13,
   "metadata": {},
   "outputs": [
    {
     "data": {
      "text/html": [
       "<div>\n",
       "<style scoped>\n",
       "    .dataframe tbody tr th:only-of-type {\n",
       "        vertical-align: middle;\n",
       "    }\n",
       "\n",
       "    .dataframe tbody tr th {\n",
       "        vertical-align: top;\n",
       "    }\n",
       "\n",
       "    .dataframe thead th {\n",
       "        text-align: right;\n",
       "    }\n",
       "</style>\n",
       "<table border=\"1\" class=\"dataframe\">\n",
       "  <thead>\n",
       "    <tr style=\"text-align: right;\">\n",
       "      <th></th>\n",
       "      <th>t_med</th>\n",
       "      <th>auc_med</th>\n",
       "      <th>unoc</th>\n",
       "      <th>cens_rate</th>\n",
       "    </tr>\n",
       "  </thead>\n",
       "  <tbody>\n",
       "    <tr>\n",
       "      <th>0</th>\n",
       "      <td>1.203649</td>\n",
       "      <td>0.81119</td>\n",
       "      <td>0.765314</td>\n",
       "      <td>19.333333</td>\n",
       "    </tr>\n",
       "  </tbody>\n",
       "</table>\n",
       "</div>"
      ],
      "text/plain": [
       "      t_med  auc_med      unoc  cens_rate\n",
       "0  1.203649  0.81119  0.765314  19.333333"
      ]
     },
     "execution_count": 13,
     "metadata": {},
     "output_type": "execute_result"
    }
   ],
   "source": [
    "results_all"
   ]
  }
 ],
 "metadata": {
  "kernelspec": {
   "display_name": "nnet_compare",
   "language": "python",
   "name": "myenv"
  },
  "language_info": {
   "codemirror_mode": {
    "name": "ipython",
    "version": 3
   },
   "file_extension": ".py",
   "mimetype": "text/x-python",
   "name": "python",
   "nbconvert_exporter": "python",
   "pygments_lexer": "ipython3",
   "version": "3.7.7"
  }
 },
 "nbformat": 4,
 "nbformat_minor": 2
}
